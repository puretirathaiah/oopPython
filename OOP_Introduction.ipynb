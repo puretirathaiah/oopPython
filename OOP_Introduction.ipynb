{
 "cells": [
  {
   "cell_type": "markdown",
   "metadata": {},
   "source": [
    "# Python Object Oriented programming\n",
    "\n",
    "## Object\n",
    "- Everything is object in Python, and multiple names can be bound to the same object.\n",
    "- What is the advantage of aliasing (bounding)? For mutable objects, like lists, passing their names to a function is nothing but pointing their objects as such if the function modifies the objects, the changes can be remain applied to the objects. It is something like pointers in other languages.\n",
    "\n",
    "## Namespace\n",
    "- Namespace is a mapping from names to objects.\n",
    "    - All the built-ins in pythons. import built-ins; builtins.__dict__; it returns the namespace of the python built-ins\n",
    "    - The global names in a module; modulename.__dict__ returns the namespace of the module.\n",
    "    - Local names of a function. functionname.__dict__ returns the namespace of the function\n",
    "    - In a nutshell, the set of attributes of an object forms a namespace. Attributes of an object includes both the names of variables and functions.\n",
    "    - No relation between the names in different namespaces.\n",
    "## Scope\n",
    "- A scope is a textual region of a Python program where a namespace is directly accessible.\n",
    "## Class\n",
    "- As everything is object in Python, classes are also objects.\n",
    "- When a class definition is entered, a new namespace is created.\n",
    "- When a class definition is finished, a class object is creating, which is basically a wrapper around the namespace.\n",
    "- The class object is bound to the class name defined in class definition header.\n",
    "    -  The attributes (all the names of the namespace of the class object) can be referenced using class name following the classname.attribute, where attribute can be variable or function\n",
    "    - Class can be instantiated using the callable. [Ex: Classname()]\n",
    "\n",
    "## Instance Objects\n",
    "- These are the instances of the classes\n",
    "    - They can access two kids of attributes:\n",
    "        - data variable attributes\n",
    "        - method attributes\n",
    "\n",
    "## Class variables Vs instance variables\n",
    "- All the variables defined in a class are not instance variables.\n",
    "- Instance variables can have scope of the instance\n",
    "    - data unique to each instance\n",
    "    - If an object cannot find a variable then it will look for class scope\n",
    "    - However, the class cannot have access to the instance variables\n",
    "\n",
    "- Class variables can be accessed using class or object names, and they can be shared to all the instances of the class\n",
    "\n",
    "## Methods\n",
    "### Instance methods\n",
    "- They can alter the status (behaviour) of the instances\n",
    "    - i.e. by having access to the instance variables as well as to the class variables\n",
    "### Class methods\n",
    "- They cannot alter the behaviour of an instance\n",
    "    - i.e. they could not change the values of the instance variables. This is because the scope of the instance variables is limited to instances only but not to the class level.\n",
    "        - Trying to access any instance variable inside a class method raises an error\n",
    "- They can change the status of the class variables as such the status of the class.\n",
    "- The can also use to create the new instances of the class by indirectly calling the __init__() constructor of a class. \n",
    "    - This can used as factor methods to create alternative way of the class instances.\n",
    "\n",
    "### Static methods\n",
    "- These methods cannot change neither the status of the class or object\n",
    "    - i.e. these methods cannot have access to neither class variables or instance variables\n",
    "- They can be used as utility methods, which can be used by either class methods or instance methods.\n",
    "    - these methods can be called as, self.staticMethodName(), in instance methods because the instance methods have access to the namespace of the class, where the static methods are also the attributes of the class."
   ]
  },
  {
   "cell_type": "markdown",
   "metadata": {},
   "source": [
    "#### Example1 (find in other notebook files): \n",
    "##### Create a class for bank account which can support the functionalities such as\n",
    "- accepts only unique bank account number\n",
    "- first name and last name (using property)\n",
    "- balance\n",
    "- several types of transactions including\n",
    "    - depositing money\n",
    "    - withdrawing money\n",
    "    - rejecting invalid transaction\n",
    "    - paying interest\n",
    "- Common interest for all the bank accounts\n",
    "- generating confirmation code for all kinds of transactions\n",
    "    - Transaction_type - Account_number - timestamp - transaction_number\n",
    "- Include the steps to validate the input arguments\n",
    "\n",
    "##### Create a class for a time zone object, which can be used to create timezone specific timestamp apart from the utc timestamp"
   ]
  },
  {
   "cell_type": "markdown",
   "metadata": {},
   "source": []
  }
 ],
 "metadata": {
  "interpreter": {
   "hash": "ad2bdc8ecc057115af97d19610ffacc2b4e99fae6737bb82f5d7fb13d2f2c186"
  },
  "kernelspec": {
   "display_name": "Python 3.9.12 ('base')",
   "language": "python",
   "name": "python3"
  },
  "language_info": {
   "codemirror_mode": {
    "name": "ipython",
    "version": 3
   },
   "file_extension": ".py",
   "mimetype": "text/x-python",
   "name": "python",
   "nbconvert_exporter": "python",
   "pygments_lexer": "ipython3",
   "version": "3.9.12"
  },
  "orig_nbformat": 4
 },
 "nbformat": 4,
 "nbformat_minor": 2
}
